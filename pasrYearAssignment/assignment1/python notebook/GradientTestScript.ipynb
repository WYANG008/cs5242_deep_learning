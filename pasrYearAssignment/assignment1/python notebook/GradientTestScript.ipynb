{
 "cells": [
  {
   "cell_type": "code",
   "execution_count": 17,
   "metadata": {},
   "outputs": [],
   "source": [
    "import random\n",
    "import numpy as np"
   ]
  },
  {
   "cell_type": "code",
   "execution_count": 18,
   "metadata": {},
   "outputs": [
    {
     "name": "stdout",
     "output_type": "stream",
     "text": [
      "3\n",
      "2\n",
      "3\n",
      "4\n",
      "5\n"
     ]
    }
   ],
   "source": [
    "# sizes = [4,5,6,7]\n",
    "# biases = [np.random.randn(y, 1) for y in sizes[1:]]\n",
    "# weights = [np.random.randn(y, x) for x, y in zip(sizes[:-1], sizes[1:])]\n",
    "# print ([b.shape for b in biases])\n",
    "# print ([w.shape for w in weights])\n",
    "# for b, w in zip(biases, weights):\n",
    "#     print (b.shape)\n",
    "#     print (w.shape)\n",
    "\n",
    "\n",
    "a = [1,2,3,4]\n",
    "print(a[-2])\n",
    "for l in range(2,6):\n",
    "    print(l)"
   ]
  },
  {
   "cell_type": "code",
   "execution_count": 19,
   "metadata": {},
   "outputs": [],
   "source": [
    "# a = np.array([1, 0, 3])\n",
    "# b = np.zeros((a.size, a.max() + 1))\n",
    "# print(a.size)\n",
    "# print(a.max() + 1)\n",
    "# print (b.shape)\n",
    "# b[np.arange(a.size), a] = 1\n",
    "# b"
   ]
  },
  {
   "cell_type": "code",
   "execution_count": 20,
   "metadata": {},
   "outputs": [
    {
     "name": "stdout",
     "output_type": "stream",
     "text": [
      "781\n"
     ]
    }
   ],
   "source": [
    "from __future__ import print_function\n",
    "import os\n",
    "import sys\n",
    "#VERSION = 2 if '2.7' in sys.version else 3\n",
    "import numpy as np\n",
    "import csv\n",
    "import zipfile\n",
    "\n",
    "\"\"\"\n",
    "    You are expected to upload a e*******.zip file, inside the zip file contains 6 gradients.csv file.\n",
    "    For verification, you can comment out the line11 to 15, and change the truth_path and ID to 'b', however, do note the grading process WILL contain these lines.\n",
    "\"\"\"\n",
    "# ID = 'e012345678' \n",
    "# truth_path = 'the_truth_path' #change truth_path = 'b' for verification\n",
    "# zip_ref = zipfile.ZipFile(ID+'.zip', 'r')\n",
    "# zip_ref.extractall('.')\n",
    "# zip_ref.close()\n",
    "userhome = os.path.expanduser('~')\n",
    "truth_path = userhome + r'/Downloads/assignment1/Question2_4/b/'\n",
    "file_name = ['dw-100-40-4.csv', 'db-100-40-4.csv', 'dw-28-6-4.csv', 'db-28-6-4.csv', 'dw-14-28-4.csv', 'db-14-28-4.csv'] \n",
    "true_file = ['true-dw-100-40-4.csv', 'true-db-100-40-4.csv', 'true-dw-28-6-4.csv', 'true-db-28-6-4.csv', 'true-dw-14-28-4.csv', 'true-db-14-28-4.csv']\n",
    "# file_name = ['dw-100-40-4.csv', 'db-100-40-4.csv'] \n",
    "# true_file = ['true-dw-100-40-4.csv', 'true-db-100-40-4.csv']\n",
    "threshold = 0.05\n",
    "\n",
    "def read_file(name):\n",
    "    l = list()\n",
    "    with open(name) as f:\n",
    "        reader = csv.reader(f)\n",
    "        for row in reader:\n",
    "            l.append(row)\n",
    "    return l\n",
    "\n",
    "\"\"\"\n",
    "    You can try your grading function, while the function is yet to decided.\n",
    "    However, in the the ideal situation you should expect dis = 0\n",
    "\"\"\"\n",
    "def do_some_grading(l0, l1, th):\n",
    "    dis = np.mean(np.abs(l0-l1).astype(float)/(0.1+l1))\n",
    "    if dis <= th:\n",
    "        return 1\n",
    "    else:\n",
    "        return 0\n",
    "\n",
    "\"\"\"\n",
    "    The threshold is introduced to address the numerial bias due to rounded floats,\n",
    "    which could be as small as zero\n",
    "\"\"\"\n",
    "def compare(sub, true, threshold=0):\n",
    "    scores = list()\n",
    "    if not len(sub)==len(true):\n",
    "        return 0\n",
    "    for i in range(len(sub)):\n",
    "        l0 = np.array(sub[i]).astype(np.float)\n",
    "        l1 = np.array(true[i]).astype(np.float)\n",
    "        if not len(l0)==len(l1):\n",
    "            return 0\n",
    "        else:\n",
    "            scores.append(do_some_grading(l0, l1, threshold))\n",
    "    return scores\n",
    "\n",
    "true_grads = list()\n",
    "for f in true_file:\n",
    "    true_grads.append(read_file(os.path.join(truth_path,f)))\n",
    "\n",
    "score = list()\n",
    "for i, fn in enumerate(file_name):\n",
    "    grads = read_file(os.path.join(truth_path,fn))\n",
    "    s = compare(grads, true_grads[i], threshold)\n",
    "    score += s\n",
    "print(np.sum(score))\n",
    "            \n",
    "#157, 182+7, 406+29 "
   ]
  },
  {
   "cell_type": "code",
   "execution_count": null,
   "metadata": {},
   "outputs": [],
   "source": []
  }
 ],
 "metadata": {
  "kernelspec": {
   "display_name": "Python 3",
   "language": "python",
   "name": "python3"
  },
  "language_info": {
   "codemirror_mode": {
    "name": "ipython",
    "version": 3
   },
   "file_extension": ".py",
   "mimetype": "text/x-python",
   "name": "python",
   "nbconvert_exporter": "python",
   "pygments_lexer": "ipython3",
   "version": "3.6.0"
  }
 },
 "nbformat": 4,
 "nbformat_minor": 2
}
